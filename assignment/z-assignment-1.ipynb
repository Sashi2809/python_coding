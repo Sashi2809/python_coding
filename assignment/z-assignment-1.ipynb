{
 "cells": [
  {
   "cell_type": "code",
   "execution_count": null,
   "id": "1192f653",
   "metadata": {},
   "outputs": [
    {
     "name": "stdout",
     "output_type": "stream",
     "text": [
      "a is 20\n",
      "b is 10\n"
     ]
    }
   ],
   "source": [
    "# 1 swp two variables\n",
    "\n",
    "a=int(input())\n",
    "b=int(input())\n",
    "\n",
    "a,b=b,a\n",
    "\n",
    "print(\"a is\", a)\n",
    "print(\"b is\", b)"
   ]
  },
  {
   "cell_type": "code",
   "execution_count": null,
   "id": "6bd4df83",
   "metadata": {},
   "outputs": [
    {
     "name": "stdout",
     "output_type": "stream",
     "text": [
      "2000 is a leap year\n"
     ]
    }
   ],
   "source": [
    "# 1 leap year\n",
    "\n",
    "year = int(input())\n",
    "\n",
    "if year%400==0 and year%100==0:\n",
    "    print(f\"{year} is a leap year\")\n",
    "elif year%4==0 and year%100!=0:\n",
    "    print(f\"{year} is a leap year\")\n",
    "else:\n",
    "    print(\"not a leap year\")"
   ]
  },
  {
   "cell_type": "code",
   "execution_count": null,
   "id": "25a3d661",
   "metadata": {},
   "outputs": [
    {
     "name": "stdout",
     "output_type": "stream",
     "text": [
      "720\n"
     ]
    }
   ],
   "source": [
    "# 1 factorial\n",
    "\n",
    "n = int(input())\n",
    "ans = 1\n",
    "for i in range(2,n+1):\n",
    "    ans = ans*i\n",
    "print(ans)    \n",
    "\n",
    "    "
   ]
  },
  {
   "cell_type": "code",
   "execution_count": null,
   "id": "9198cb3d",
   "metadata": {},
   "outputs": [
    {
     "name": "stdout",
     "output_type": "stream",
     "text": [
      "[0, 1, 1, 2, 3, 5]\n"
     ]
    }
   ],
   "source": [
    "# 1 fibonacci\n",
    "\n",
    "n=int(input())\n",
    "ans=[]\n",
    "a=0\n",
    "b=1\n",
    "\n",
    "for i in range(n):\n",
    "    ans.append(a)\n",
    "    a,b = b,a+b\n",
    "print(ans)\n",
    "    "
   ]
  },
  {
   "cell_type": "code",
   "execution_count": 7,
   "id": "389d59df",
   "metadata": {},
   "outputs": [
    {
     "name": "stdout",
     "output_type": "stream",
     "text": [
      "not\n"
     ]
    }
   ],
   "source": [
    "# 1 palindrome string\n",
    "\n",
    "a = input()\n",
    "if a == a[::-1]:\n",
    "    print(\"palindrome\")\n",
    "else:\n",
    "    print(\"not\")"
   ]
  },
  {
   "cell_type": "code",
   "execution_count": 11,
   "id": "3f0e469f",
   "metadata": {},
   "outputs": [
    {
     "name": "stdout",
     "output_type": "stream",
     "text": [
      "farenheit: 33.8\n",
      "celcius: 4.444444444444445\n"
     ]
    }
   ],
   "source": [
    "# 1 temperature conversion\n",
    "\n",
    "c = float(input(\"enter celcius: \"))\n",
    "f = (c* 9/5) + 32\n",
    "print(\"farenheit:\",f)\n",
    "\n",
    "f = float(input(\"enter farenheit: \"))\n",
    "c = (f-32) * 5/9\n",
    "print(\"celcius:\",c)"
   ]
  },
  {
   "cell_type": "code",
   "execution_count": 20,
   "id": "31f42a76",
   "metadata": {},
   "outputs": [
    {
     "ename": "ValueError",
     "evalue": "invalid literal for int() with base 10: '[1,2],[1]'",
     "output_type": "error",
     "traceback": [
      "\u001b[1;31m---------------------------------------------------------------------------\u001b[0m",
      "\u001b[1;31mValueError\u001b[0m                                Traceback (most recent call last)",
      "Cell \u001b[1;32mIn[20], line 3\u001b[0m\n\u001b[0;32m      1\u001b[0m \u001b[38;5;66;03m# 1 lcm and hcf\u001b[39;00m\n\u001b[1;32m----> 3\u001b[0m a \u001b[38;5;241m=\u001b[39m \u001b[38;5;28;43mint\u001b[39;49m\u001b[43m(\u001b[49m\u001b[38;5;28;43minput\u001b[39;49m\u001b[43m(\u001b[49m\u001b[43m)\u001b[49m\u001b[43m)\u001b[49m\n\u001b[0;32m      4\u001b[0m b \u001b[38;5;241m=\u001b[39m \u001b[38;5;28mint\u001b[39m(\u001b[38;5;28minput\u001b[39m())\n\u001b[0;32m      6\u001b[0m mini \u001b[38;5;241m=\u001b[39m a\u001b[38;5;241m*\u001b[39mb\n",
      "\u001b[1;31mValueError\u001b[0m: invalid literal for int() with base 10: '[1,2],[1]'"
     ]
    }
   ],
   "source": [
    "# 1 lcm and hcf\n",
    "\n",
    "a = int(input())\n",
    "b = int(input())\n",
    "\n",
    "mini = a*b\n",
    "hcf = 0\n",
    "for i in range(mini,0,-1):\n",
    "    if a%i==0 and b%i==0:\n",
    "        hcf = i\n",
    "        break\n",
    "\n",
    "lcm = (a*b)//hcf\n",
    "print(f\"lcm is {lcm} and hcf is {hcf}\")"
   ]
  },
  {
   "cell_type": "code",
   "execution_count": 23,
   "id": "914ed376",
   "metadata": {},
   "outputs": [
    {
     "name": "stdout",
     "output_type": "stream",
     "text": [
      "maxi is 5, min is 1 and avg is 3\n"
     ]
    }
   ],
   "source": [
    "# 1 min,max and avg\n",
    "\n",
    "a = list(map(int,input().split()))\n",
    "# a = list(eval(input()))\n",
    "\n",
    "avg = sum(a)//len(a)\n",
    "print(f\"maxi is {max(a)}, min is {min(a)} and avg is {avg}\")"
   ]
  },
  {
   "cell_type": "code",
   "execution_count": null,
   "id": "86024e57",
   "metadata": {},
   "outputs": [],
   "source": [
    "s = input(\"Enter numbers: \")   # example: 1 2 3, 4 5, 6 7 8\n",
    "groups = s.split(\",\")          # split by comma → ['1 2 3', ' 4 5', ' 6 7 8']\n",
    "\n",
    "result = []\n",
    "for g in groups:\n",
    "    nums = list(map(int, g.strip().split()))  # split each group by space\n",
    "    result.append(nums)\n",
    "    \n",
    "print(result) # [[1,2],[4,5],[6,7,8]]"
   ]
  },
  {
   "cell_type": "code",
   "execution_count": null,
   "id": "47aad630",
   "metadata": {},
   "outputs": [
    {
     "name": "stdout",
     "output_type": "stream",
     "text": [
      "not divisible by zero\n"
     ]
    }
   ],
   "source": [
    "# 1 simple calculator with error handling\n",
    "\n",
    "a = int(input())\n",
    "b = int(input())\n",
    "operator = input(\"enter operator: \")\n",
    "try:\n",
    "    if operator == '+':\n",
    "        print(a+b)\n",
    "    elif operator == '-':\n",
    "        print(a-b)\n",
    "    elif operator == '*':\n",
    "        print(a*b)\n",
    "    elif operator == '/':\n",
    "        print(a//b)\n",
    "except ZeroDivisionError:\n",
    "    print(\"not divisible by zero\")\n",
    "\n",
    "\n",
    "    "
   ]
  },
  {
   "cell_type": "code",
   "execution_count": 28,
   "id": "0ff212d7",
   "metadata": {},
   "outputs": [
    {
     "name": "stdout",
     "output_type": "stream",
     "text": [
      "0\n"
     ]
    }
   ],
   "source": [
    "# 1 no. of vowers in a string\n",
    "\n",
    "s = input()\n",
    "cnt = 0\n",
    "for i in s:\n",
    "    i = i.lower()\n",
    "    if i=='a' or i=='e' or i=='i' or i=='o'or i=='u':\n",
    "        cnt+=1\n",
    "print(cnt)"
   ]
  },
  {
   "cell_type": "code",
   "execution_count": 30,
   "id": "a46f242a",
   "metadata": {},
   "outputs": [
    {
     "name": "stdout",
     "output_type": "stream",
     "text": [
      "120\n"
     ]
    }
   ],
   "source": [
    "# 2 recursive factorial func\n",
    "\n",
    "def fact(n):\n",
    "    if n==0 or n==1:\n",
    "        return 1\n",
    "    else:\n",
    "        return n*fact(n-1)\n",
    "n = int(input())\n",
    "print(fact(n))"
   ]
  },
  {
   "cell_type": "code",
   "execution_count": 34,
   "id": "d815ad94",
   "metadata": {},
   "outputs": [
    {
     "name": "stdout",
     "output_type": "stream",
     "text": [
      "(30, 60)\n"
     ]
    }
   ],
   "source": [
    "# 2 func gcd and lcm\n",
    "\n",
    "def gcd_lcm(a,b):\n",
    "    mini = a*b\n",
    "    hcf = 0\n",
    "    for i in range(mini,0,-1):\n",
    "        if a%i==0 and b%i==0:\n",
    "            hcf = i\n",
    "            break\n",
    "    lcm = (a*b)//hcf\n",
    "    return hcf, lcm\n",
    "\n",
    "print(gcd_lcm(60,30))"
   ]
  },
  {
   "cell_type": "code",
   "execution_count": null,
   "id": "09f138ab",
   "metadata": {},
   "outputs": [
    {
     "name": "stdout",
     "output_type": "stream",
     "text": [
      "john don von \n"
     ]
    }
   ],
   "source": [
    "# 2 name\n",
    "\n",
    "def name(first,last,middle=\"\"):\n",
    "    print(f\"{first} {middle} {last} \")\n",
    "\n",
    "name(\"john\",\"von\",\"don\")"
   ]
  },
  {
   "cell_type": "code",
   "execution_count": null,
   "id": "f7f08115",
   "metadata": {},
   "outputs": [
    {
     "name": "stdout",
     "output_type": "stream",
     "text": [
      "10\n"
     ]
    }
   ],
   "source": [
    "# 2 sum of any no. of arguments\n",
    "\n",
    "def sum_all(*numbers):\n",
    "    return sum(numbers)\n",
    "\n",
    "l = list(map(int,input().split()))\n",
    "\n",
    "\n",
    "print(sum_all(*l))"
   ]
  },
  {
   "cell_type": "code",
   "execution_count": 39,
   "id": "e90def7b",
   "metadata": {},
   "outputs": [
    {
     "name": "stdout",
     "output_type": "stream",
     "text": [
      "{'host': 'localhost', 'port': 8080, 'debug': True}\n",
      "{'host': 'localhost', 'port': 5000, 'debug': True}\n",
      "{'host': '127.0.0.1', 'port': 8080, 'debug': False}\n"
     ]
    }
   ],
   "source": [
    "# 2 function **setting that merges defaults with provided keyword arguments and return final conflig dict\n",
    "\n",
    "def config(**settings):\n",
    "    defaults = {\n",
    "        \"host\":\"localhost\",\n",
    "        \"port\":8080,\n",
    "        \"debug\":True\n",
    "    }\n",
    "    defaults.update(settings)\n",
    "    return defaults\n",
    "\n",
    "print(config())\n",
    "print(config(port = 5000))\n",
    "print(config(host=\"127.0.0.1\",debug = False))"
   ]
  },
  {
   "cell_type": "code",
   "execution_count": null,
   "id": "3161fb97",
   "metadata": {},
   "outputs": [
    {
     "name": "stdout",
     "output_type": "stream",
     "text": [
      "50\n",
      "180\n"
     ]
    }
   ],
   "source": [
    "# 2  multiplier return a function that multiplies its input by n\n",
    "\n",
    "def make_multiplier(n):\n",
    "    def multiply(x):\n",
    "        return n*x\n",
    "    return multiply\n",
    "\n",
    "time5 = make_multiplier(5)\n",
    "time9 = make_multiplier(9)\n",
    "\n",
    "print(time5(10))\n",
    "print(time9(20))"
   ]
  },
  {
   "cell_type": "code",
   "execution_count": 58,
   "id": "edd95250",
   "metadata": {},
   "outputs": [
    {
     "name": "stdout",
     "output_type": "stream",
     "text": [
      "entering function()\n",
      "hello, sashidhar!\n",
      "closing function()\n",
      "hello, sashidhar!\n"
     ]
    }
   ],
   "source": [
    "# 2 write decorator @log_calls that prints function entry and exit msgs\n",
    "\n",
    "def log_calls(func):\n",
    "    def wrapper(*args,**kwargs):\n",
    "        print(f\"entering function()\")\n",
    "        result = func(*args,**kwargs)\n",
    "        print(result)\n",
    "        print(f\"closing function()\")\n",
    "        return result\n",
    "    return wrapper\n",
    "\n",
    "@log_calls\n",
    "def func(name):\n",
    "    return f\"hello, {name}!\"\n",
    "\n",
    "print(func(\"sashidhar\"))"
   ]
  },
  {
   "cell_type": "code",
   "execution_count": null,
   "id": "f563e62d",
   "metadata": {},
   "outputs": [
    {
     "name": "stdout",
     "output_type": "stream",
     "text": [
      "[1, 4, 9, 16, 25]\n",
      "[2, 4, 6, 8, 10]\n",
      "['1', '2', '3', '4', '5']\n"
     ]
    }
   ],
   "source": [
    "# 2 implement apply_func (lst,func) that applies function to everyevery element of list demonstrate with map like behaviour\n",
    "\n",
    "\n",
    "def apply_func(lst,func):\n",
    "    result = []\n",
    "    for i in lst:\n",
    "        result.append(func(i))\n",
    "    return result\n",
    "\n",
    "nums = list(map(int,input().split()))\n",
    "\n",
    "print(apply_func(nums,lambda x:x**2))\n",
    "print(apply_func(nums,lambda x:x*2))\n",
    "print(apply_func(nums,str))\n",
    "\n"
   ]
  },
  {
   "cell_type": "code",
   "execution_count": 60,
   "id": "04e65fc8",
   "metadata": {},
   "outputs": [
    {
     "name": "stdout",
     "output_type": "stream",
     "text": [
      "32\n"
     ]
    }
   ],
   "source": [
    "# 2 create a recursive power(base,exp) function to compute base^exp\n",
    "\n",
    "def power(base,exp):\n",
    "    if exp==0:\n",
    "        return 1\n",
    "    else:\n",
    "        return base*power(base,exp-1)\n",
    "    \n",
    "print(power(2,5))"
   ]
  },
  {
   "cell_type": "code",
   "execution_count": 62,
   "id": "7f41b4f9",
   "metadata": {},
   "outputs": [
    {
     "name": "stdout",
     "output_type": "stream",
     "text": [
      "3\n"
     ]
    }
   ],
   "source": [
    "# 2 implement binary search that works in sorted list using recursion\n",
    "\n",
    "def binary_search(lst,x,low=0,high=None):\n",
    "    if high == None:\n",
    "        high = len(lst)-1\n",
    "    if low>high:\n",
    "        return -1\n",
    "    mid = (low+high)//2\n",
    "    if lst[mid]==x:\n",
    "        return mid\n",
    "    elif lst[mid]>x:\n",
    "        return binary_search(lst,x,low,mid-1)\n",
    "    else:\n",
    "        return binary_search(lst,x,mid+1,high)\n",
    "    \n",
    "lst = [1,3,5,7,9,11,13]\n",
    "print(binary_search(lst,7))"
   ]
  },
  {
   "cell_type": "code",
   "execution_count": null,
   "id": "cf91321b",
   "metadata": {},
   "outputs": [],
   "source": []
  },
  {
   "cell_type": "code",
   "execution_count": 2,
   "id": "40f2085c",
   "metadata": {},
   "outputs": [
    {
     "name": "stdout",
     "output_type": "stream",
     "text": [
      "[1, 2, 3, 4]\n",
      "[1, 2, 3, 4]\n"
     ]
    }
   ],
   "source": [
    "# 4 flatten 2d to 1d\n",
    "\n",
    "l = eval(input())\n",
    "\n",
    "ans = []\n",
    "for i in l:\n",
    "    for e in i:\n",
    "        ans.append(e)\n",
    "print(ans)\n",
    "\n",
    "ans = [ele for row in l for ele in row]\n",
    "print(ans)"
   ]
  },
  {
   "cell_type": "code",
   "execution_count": 5,
   "id": "07491ab8",
   "metadata": {},
   "outputs": [
    {
     "name": "stdout",
     "output_type": "stream",
     "text": [
      "{4: 3, 5: 1, 3: 1, 2: 3, 1: 3}\n",
      "4\n"
     ]
    }
   ],
   "source": [
    "# 4 frequency of elements and most frequesnt elements\n",
    "\n",
    "l = list(map(int,input().split()))\n",
    "\n",
    "d = {}\n",
    "for i in l:\n",
    "    d[i] = d.get(i,0)+1\n",
    "    \n",
    "print(d)\n",
    "ans = 0\n",
    "maxi = max(d.values())\n",
    "for k,e in d.items():\n",
    "    if e == maxi:\n",
    "        ans = k\n",
    "        break\n",
    "print(ans)"
   ]
  },
  {
   "cell_type": "code",
   "execution_count": null,
   "id": "05c8c487",
   "metadata": {},
   "outputs": [
    {
     "name": "stdout",
     "output_type": "stream",
     "text": [
      "[1, 5, 6, 2, 3]\n"
     ]
    }
   ],
   "source": [
    "# 4 remove duplicates for list while preserving original order\n",
    "\n",
    "l = list(map(int,input().split()))\n",
    "\n",
    "d = {}\n",
    "for i in l:\n",
    "    d[i]=d.get(i,0)+1\n",
    "ans=[]\n",
    "for k,e in d.items():\n",
    "    if e>=1:\n",
    "        ans.append(k)\n",
    "print(ans)\n"
   ]
  },
  {
   "cell_type": "code",
   "execution_count": 13,
   "id": "09865d5a",
   "metadata": {},
   "outputs": [
    {
     "name": "stdout",
     "output_type": "stream",
     "text": [
      "[('a', 1), ('b', 2)]\n"
     ]
    }
   ],
   "source": [
    "# 4 convert a dictionary to a list of key,value pairs and print it\n",
    "\n",
    "d = eval(input())\n",
    "my_dict = list(d.items())\n",
    "print(my_dict)"
   ]
  },
  {
   "cell_type": "code",
   "execution_count": 14,
   "id": "93f93d47",
   "metadata": {},
   "outputs": [
    {
     "name": "stdout",
     "output_type": "stream",
     "text": [
      "[1, 3, 5]\n"
     ]
    }
   ],
   "source": [
    "# 4 list comprehension to filter out odd numbers from a list\n",
    "\n",
    "l = list(map(int,input().split()))\n",
    "\n",
    "res = [i for i in l if i%2!=0]\n",
    "print(res)"
   ]
  },
  {
   "cell_type": "code",
   "execution_count": 15,
   "id": "3ec320fe",
   "metadata": {},
   "outputs": [
    {
     "name": "stdout",
     "output_type": "stream",
     "text": [
      "1 2\n"
     ]
    }
   ],
   "source": [
    "# 4 use a tuple to store an immutable coordinate (x,y) and demonstrate unpacking\n",
    "\n",
    "x,y = tuple(map(int,input().split()))\n",
    "print(x,y)"
   ]
  },
  {
   "cell_type": "code",
   "execution_count": null,
   "id": "6755cf04",
   "metadata": {},
   "outputs": [
    {
     "name": "stdout",
     "output_type": "stream",
     "text": [
      "{'a': 1, 'b': 2, 'c': 1, 'd': 2}\n"
     ]
    }
   ],
   "source": [
    "# 4 merge two dictionaries into a new one(preserving keys from both)\n",
    "\n",
    "d1 = {\"a\":1,\"b\":2}\n",
    "d2 = {\"c\":1,\"d\":2}\n",
    "\n",
    "d1.update(d2)\n",
    "# m = {**d1,**d2}\n",
    "# print(m)\n",
    "\n",
    "print(d1)"
   ]
  },
  {
   "cell_type": "code",
   "execution_count": 17,
   "id": "b12cc408",
   "metadata": {},
   "outputs": [
    {
     "name": "stdout",
     "output_type": "stream",
     "text": [
      "{1, 2, 3, 4}\n",
      "{1, 2, 3}\n",
      "{4}\n"
     ]
    }
   ],
   "source": [
    "# 4 use set operations intersection union and difference\n",
    "\n",
    "s1 = {1,2,3,4}\n",
    "s2={1,2,3}\n",
    "\n",
    "print(s1.union(s2))\n",
    "print(s1.intersection(s2))\n",
    "print(s1.difference(s2))"
   ]
  },
  {
   "cell_type": "code",
   "execution_count": null,
   "id": "ac0d30a0",
   "metadata": {},
   "outputs": [
    {
     "name": "stdout",
     "output_type": "stream",
     "text": [
      "{1: 1, 2: 4, 3: 9, 4: 16, 5: 25}\n"
     ]
    }
   ],
   "source": [
    "# 4 use dictionary comprehension to create mapping from items to their squares\n",
    "\n",
    "\n",
    "d = [1,2,3,4,5]\n",
    "\n",
    "sq = {x:x**2 for x in d}\n",
    "print(sq)"
   ]
  },
  {
   "cell_type": "code",
   "execution_count": 19,
   "id": "cd4423dc",
   "metadata": {},
   "outputs": [
    {
     "name": "stdout",
     "output_type": "stream",
     "text": [
      "Point(x=10, y=20)\n",
      "10\n",
      "20\n"
     ]
    }
   ],
   "source": [
    "# 4 use a named tuple to represent a point named point with field x and y and create an instance\n",
    "\n",
    "from collections import namedtuple\n",
    "\n",
    "Point = namedtuple(\"Point\",[\"x\",\"y\"])\n",
    "\n",
    "p1 = Point(10,20)\n",
    "\n",
    "print(p1)\n",
    "print(p1.x)\n",
    "print(p1.y)"
   ]
  },
  {
   "cell_type": "code",
   "execution_count": 21,
   "id": "5015e920",
   "metadata": {},
   "outputs": [
    {
     "name": "stdout",
     "output_type": "stream",
     "text": [
      "{'hello': 3, 'world': 2, 'python': 2, 'code': 1}\n",
      "[('hello', 3), ('world', 2), ('python', 2)]\n"
     ]
    }
   ],
   "source": [
    "# 4 use defaultdict to count word frwquencies in a sentence print top 3 most common words using counter\n",
    "\n",
    "from collections import defaultdict,Counter\n",
    "\n",
    "sentence = \"hello world hello python hello code world python\"\n",
    "\n",
    "freq = defaultdict(int)\n",
    "\n",
    "for word in sentence.split():\n",
    "    freq[word] +=1\n",
    "    \n",
    "print(dict(freq))\n",
    "\n",
    "counter = Counter(sentence.split())\n",
    "top3 = counter.most_common(3)\n",
    "\n",
    "print(top3)"
   ]
  },
  {
   "cell_type": "code",
   "execution_count": null,
   "id": "d83016bc",
   "metadata": {},
   "outputs": [],
   "source": []
  },
  {
   "cell_type": "code",
   "execution_count": null,
   "id": "d22883f0",
   "metadata": {},
   "outputs": [],
   "source": [
    "# 5 implement a simple class person with name and age include a str representation\n",
    "\n",
    "class Person:\n",
    "    def __init__(self,name,age):\n",
    "        self.name = name\n",
    "        self.age = age\n",
    "        \n",
    "    def __str__(self):\n",
    "        return f\"Person(name = {self.name},age = {self.age})\"\n",
    "    \n",
    "p1 = Person(\"john\",20)\n",
    "print(p1)"
   ]
  },
  {
   "cell_type": "code",
   "execution_count": 22,
   "id": "ec240664",
   "metadata": {},
   "outputs": [
    {
     "name": "stdout",
     "output_type": "stream",
     "text": [
      "hello, john\n",
      "hello, ram and his student id is 1234\n"
     ]
    }
   ],
   "source": [
    "# 5 create a subclass student(person) that overrides a method greet() and adds a student_id\n",
    "\n",
    "class Person:\n",
    "    def __init__(self,name,age):\n",
    "        self.name = name\n",
    "        self.age=age\n",
    "    def greet(self):\n",
    "        return f\"hello, {self.name}\"\n",
    "    \n",
    "class Student(Person):\n",
    "    def __init__(self, name, age,student_id):\n",
    "        super().__init__(name, age)\n",
    "        self.student_id = student_id\n",
    "        \n",
    "    def greet(self):\n",
    "        return f\"hello, {self.name} and his student id is {self.student_id}\"\n",
    "\n",
    "p1 = Person(\"john\",22)\n",
    "s1 = Student(\"ram\",23,1234)\n",
    "\n",
    "print(p1.greet())\n",
    "print(s1.greet())"
   ]
  },
  {
   "cell_type": "code",
   "execution_count": 25,
   "id": "9e0bce6d",
   "metadata": {},
   "outputs": [
    {
     "name": "stdout",
     "output_type": "stream",
     "text": [
      "current balance: 1000\n",
      "Deposited: 500\n",
      "current balance: 1500\n",
      "withdrawl: 200\n",
      "current balance: 1300\n"
     ]
    }
   ],
   "source": [
    "# 5 implement a bank account class with a balance,deposit(amount),withdraw (amount) and a method to print current balance\n",
    "\n",
    "class BankAccount:\n",
    "    def __init__(self,balance=0):\n",
    "        self.balance = balance\n",
    "    \n",
    "    def deposit(self,amount):\n",
    "        if amount>0:\n",
    "            self.balance = self.balance+amount\n",
    "            print(f\"Deposited: {amount}\")\n",
    "        else:\n",
    "            print(\"withdrawl amount must be positive!\")\n",
    "            \n",
    "    def withdraw(self,amount):\n",
    "        if amount>self.balance:\n",
    "            print(\"insufficient funds!\")\n",
    "        elif amount<=0:\n",
    "            print(\"withdrawl amount must be positive!\")\n",
    "        else:\n",
    "            self.balance -= amount\n",
    "            print(f\"withdrawl: {amount}\")\n",
    "    def print_balance(self):\n",
    "        print(f\"current balance: {self.balance}\")\n",
    "        \n",
    "acc = BankAccount(1000)\n",
    "acc.print_balance()\n",
    "\n",
    "acc.deposit(500)\n",
    "acc.print_balance()\n",
    "acc.withdraw(200)\n",
    "acc.print_balance()"
   ]
  },
  {
   "cell_type": "code",
   "execution_count": 26,
   "id": "66e2f886",
   "metadata": {},
   "outputs": [
    {
     "name": "stdout",
     "output_type": "stream",
     "text": [
      "circle area 78.53981633974483\n",
      "rectangle area: 24\n"
     ]
    }
   ],
   "source": [
    "# 5 implement a shape base class with an area() method, and derive Circle and Rectangle classess that implement area()\n",
    "import math\n",
    "\n",
    "class Shape():\n",
    "    def area(self):\n",
    "        pass\n",
    "\n",
    "class Circle(Shape):\n",
    "    def __init__(self,radius):\n",
    "        self.radius = radius\n",
    "    def area(self):\n",
    "        return math.pi * self.radius**2\n",
    "\n",
    "class Rectangle(Shape):\n",
    "    def __init__(self,w,h):\n",
    "        self.w = w\n",
    "        self.h = h\n",
    "    def area(self):\n",
    "        return self.w * self.h\n",
    "\n",
    "c = Circle(5)\n",
    "r = Rectangle(4,6)\n",
    "\n",
    "print(\"circle area\",c.area())\n",
    "print(\"rectangle area:\",r.area())\n"
   ]
  },
  {
   "cell_type": "code",
   "execution_count": 28,
   "id": "b6b963db",
   "metadata": {},
   "outputs": [
    {
     "name": "stdout",
     "output_type": "stream",
     "text": [
      "employee(ID=101,Name=ram, Dept=It)\n",
      "employee(ID=102,Name=sai, Dept=HR)\n",
      "e1==e2 ? False\n",
      "e1==e3 ? True\n"
     ]
    }
   ],
   "source": [
    "# 5 create a class Employee with init and str; implement eq to compare by emp_id\n",
    "\n",
    "class Employee:\n",
    "    def __init__(self,emp_id,name,department):\n",
    "        self.emp_id=emp_id\n",
    "        self.name=name\n",
    "        self.department=department\n",
    "    def __str__(self):\n",
    "        return f\"employee(ID={self.emp_id},Name={self.name}, Dept={self.department})\"\n",
    "\n",
    "    def __eq__(self,other):\n",
    "        if isinstance(other, Employee):\n",
    "            return self.emp_id==other.emp_id\n",
    "        return False\n",
    "e1 = Employee(101,\"ram\",\"It\")\n",
    "e2 = Employee(102,\"sai\",\"HR\")\n",
    "e3 = Employee(101,\"jon\",\"finance\")\n",
    "\n",
    "print(e1)\n",
    "print(e2)\n",
    "print(\"e1==e2 ?\",e1==e2)\n",
    "print(\"e1==e3 ?\",e1==e3)"
   ]
  },
  {
   "cell_type": "code",
   "execution_count": 29,
   "id": "9e7e9c1d",
   "metadata": {},
   "outputs": [
    {
     "name": "stdout",
     "output_type": "stream",
     "text": [
      "Person(name=ram, age=22)\n"
     ]
    }
   ],
   "source": [
    "# 5 use @property to validate and expose a private attribute, eg, age, with a setter that encforces a positive integer\n",
    "\n",
    "class Person:\n",
    "    def __init__(self,name,age):\n",
    "        self.name = name\n",
    "        self._age = None\n",
    "        self.age = age\n",
    "\n",
    "    @property\n",
    "    def age(self):\n",
    "        return self._age\n",
    "    \n",
    "    @age.setter\n",
    "    def age(self,value):\n",
    "        if isinstance(value,int) and value>0:\n",
    "            self._age=value\n",
    "        else:\n",
    "            raise ValueError(\"age must be a postive integer.\")\n",
    "    \n",
    "    def __str__(self):\n",
    "        return f\"Person(name={self.name}, age={self.age})\"\n",
    "\n",
    "p1 = Person(\"ram\",22)\n",
    "print(p1)"
   ]
  },
  {
   "cell_type": "code",
   "execution_count": 30,
   "id": "0df04e94",
   "metadata": {},
   "outputs": [
    {
     "name": "stdout",
     "output_type": "stream",
     "text": [
      "Car(model=Tesla Model 3, engine=350 HP)\n",
      "Car Tesla Model 3: Engine with 350 HP started.\n"
     ]
    }
   ],
   "source": [
    "# 5 demonstrate composition by creating a Car class that contains an Engine object; expose a start() method via Car\n",
    "\n",
    "class Engine:\n",
    "    def __init__(self, horsepower):\n",
    "        self.horsepower = horsepower\n",
    "\n",
    "    def start(self):\n",
    "        return f\"Engine with {self.horsepower} HP started.\"\n",
    "\n",
    "\n",
    "class Car:\n",
    "    def __init__(self, model, horsepower):\n",
    "        self.model = model\n",
    "        self.engine = Engine(horsepower)  # composition: Car HAS an Engine\n",
    "\n",
    "    def start(self):\n",
    "        return f\"Car {self.model}: {self.engine.start()}\"\n",
    "\n",
    "    def __str__(self):\n",
    "        return f\"Car(model={self.model}, engine={self.engine.horsepower} HP)\"\n",
    "\n",
    "\n",
    "c1 = Car(\"Tesla Model 3\", 350)\n",
    "print(c1)\n",
    "print(c1.start())"
   ]
  },
  {
   "cell_type": "code",
   "execution_count": 31,
   "id": "7dba0fe6",
   "metadata": {},
   "outputs": [
    {
     "name": "stdout",
     "output_type": "stream",
     "text": [
      "Person(name=Alice, age=30)\n",
      "Person(name=Bob, age=22)\n"
     ]
    }
   ],
   "source": [
    "# 5 implement a static method or class method for a factory pattern, eg a classmethod from _string(cls,s) that creates an instance from a string\n",
    "\n",
    "class Person:\n",
    "    def __init__(self, name, age):\n",
    "        self.name = name\n",
    "        self.age = int(age)\n",
    "\n",
    "    def __str__(self):\n",
    "        return f\"Person(name={self.name}, age={self.age})\"\n",
    "\n",
    "    @classmethod\n",
    "    def from_string(cls, s):\n",
    "        \"\"\"Factory method to create a Person from a string.\"\"\"\n",
    "        name, age = s.split(\",\")\n",
    "        return cls(name.strip(), age.strip())\n",
    "\n",
    "\n",
    "# Usage\n",
    "p1 = Person(\"Alice\", 30)\n",
    "print(p1)\n",
    "\n",
    "p2 = Person.from_string(\"Bob, 22\")\n",
    "print(p2)\n"
   ]
  },
  {
   "cell_type": "code",
   "execution_count": 34,
   "id": "90ab9ccb",
   "metadata": {},
   "outputs": [
    {
     "name": "stdout",
     "output_type": "stream",
     "text": [
      "Vector2D(2, 3)\n",
      "Vector2D(4, 1)\n",
      "Vector2D(6, 4)\n",
      "Vector2D(-2, 2)\n"
     ]
    }
   ],
   "source": [
    "# 5 overload operators for a simple vector2d class (support addition,subtraction)\n",
    "\n",
    "class Vector2D:\n",
    "    def __init__(self,x,y):\n",
    "        self.x=x\n",
    "        self.y=y\n",
    "    def __add__(self,other):\n",
    "        return Vector2D(self.x+other.x,self.y+other.y)\n",
    "    def __sub__(self,other):\n",
    "        return Vector2D(self.x-other.x,self.y-other.y)\n",
    "    def __repr__(self):\n",
    "        return f\"Vector2D({self.x}, {self.y})\"\n",
    "    \n",
    "v1 = Vector2D(2,3)\n",
    "v2 = Vector2D(4,1)\n",
    "\n",
    "print(v1)\n",
    "print(v2)\n",
    "\n",
    "print(v1+v2)\n",
    "print(v1-v2)"
   ]
  },
  {
   "cell_type": "code",
   "execution_count": 35,
   "id": "2e6f50cf",
   "metadata": {},
   "outputs": [
    {
     "name": "stdout",
     "output_type": "stream",
     "text": [
      "Initial value: 0\n",
      "After 2 increments: 2\n"
     ]
    }
   ],
   "source": [
    "# 5 implement a small, safe counter class that uses a private counter and provides increment() and value()\n",
    "\n",
    "class Counter:\n",
    "    def __init__(self):\n",
    "        self.__count = 0   # private attribute\n",
    "\n",
    "    def increment(self):\n",
    "        \"\"\"Increase counter by 1\"\"\"\n",
    "        self.__count += 1\n",
    "\n",
    "    def value(self):\n",
    "        \"\"\"Return current counter value\"\"\"\n",
    "        return self.__count\n",
    "\n",
    "\n",
    "# Example usage\n",
    "c = Counter()\n",
    "print(\"Initial value:\", c.value())  # 0\n",
    "c.increment()\n",
    "c.increment()\n",
    "print(\"After 2 increments:\", c.value())  # 2\n"
   ]
  }
 ],
 "metadata": {
  "kernelspec": {
   "display_name": "Python 3",
   "language": "python",
   "name": "python3"
  },
  "language_info": {
   "codemirror_mode": {
    "name": "ipython",
    "version": 3
   },
   "file_extension": ".py",
   "mimetype": "text/x-python",
   "name": "python",
   "nbconvert_exporter": "python",
   "pygments_lexer": "ipython3",
   "version": "3.11.4"
  }
 },
 "nbformat": 4,
 "nbformat_minor": 5
}
