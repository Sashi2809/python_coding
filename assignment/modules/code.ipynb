{
 "cells": [
  {
   "cell_type": "code",
   "execution_count": null,
   "id": "852d5835",
   "metadata": {},
   "outputs": [
    {
     "name": "stdout",
     "output_type": "stream",
     "text": [
      "sas\n",
      "True\n"
     ]
    }
   ],
   "source": [
    "# 3\n",
    "import importlib\n",
    "import string_utils\n",
    "\n",
    "importlib.reload(string_utils)\n",
    "\n",
    "s = input()\n",
    "print(string_utils.reverse_string(s))\n",
    "print(string_utils.is_palindrome(s))"
   ]
  },
  {
   "cell_type": "code",
   "execution_count": null,
   "id": "1294c204",
   "metadata": {},
   "outputs": [
    {
     "name": "stdout",
     "output_type": "stream",
     "text": [
      "30\n",
      "60\n",
      "False\n"
     ]
    }
   ],
   "source": [
    "# 3\n",
    "\n",
    "import importlib\n",
    "import math_utils\n",
    "\n",
    "importlib.reload(math_utils)\n",
    "\n",
    "a = int(input())\n",
    "b = int(input())\n",
    "n = int(input())\n",
    "\n",
    "print(math_utils.gcd(a,b))\n",
    "print(math_utils.lcm(a,b))\n",
    "print(math_utils.is_prime(n))\n"
   ]
  },
  {
   "cell_type": "code",
   "execution_count": 1,
   "id": "9f817e86",
   "metadata": {},
   "outputs": [
    {
     "name": "stdout",
     "output_type": "stream",
     "text": [
      "314.159\n",
      "100\n"
     ]
    }
   ],
   "source": [
    "# 3 \n",
    "\n",
    "from geometry import circle,rect\n",
    "\n",
    "print(circle(10))\n",
    "print(rect(10,10))"
   ]
  },
  {
   "cell_type": "code",
   "execution_count": 3,
   "id": "73e2b5b1",
   "metadata": {},
   "outputs": [
    {
     "name": "stdout",
     "output_type": "stream",
     "text": [
      "None\n"
     ]
    }
   ],
   "source": [
    "# 3\n",
    "\n",
    "import mydatetime\n",
    "\n",
    "print(mydatetime.show_datetime())"
   ]
  },
  {
   "cell_type": "code",
   "execution_count": null,
   "id": "841988ba",
   "metadata": {},
   "outputs": [
    {
     "name": "stdout",
     "output_type": "stream",
     "text": [
      "{\n",
      "    \"name\": \"john\",\n",
      "    \"age\": 20,\n",
      "    \"skills\": [\n",
      "        \"python\",\n",
      "        \"webdev\",\n",
      "        \"sql\"\n",
      "    ],\n",
      "    \"is_student\": true\n",
      "}\n",
      "{'name': 'john', 'age': 20, 'skills': ['python', 'webdev', 'sql'], 'is_student': True}\n"
     ]
    }
   ],
   "source": [
    "# 4\n",
    "\n",
    "import json\n",
    "\n",
    "data = {\n",
    "    \"name\":\"john\",\n",
    "    \"age\":20,\n",
    "    \"skills\":[\"python\",\"webdev\",\"sql\"],\n",
    "    \"is_student\":True\n",
    "}\n",
    "\n",
    "json_string = json.dumps(data, indent=4)\n",
    "print(json_string)\n",
    "\n",
    "\n",
    "with open(\"output.json\",\"w\") as f:\n",
    "    json.dump(data,f,indent=4)\n",
    "    \n",
    "with open(\"output.txt\",\"r\") as f:\n",
    "    loaded_data = json.load(f)\n",
    "\n",
    "print(loaded_data)\n",
    "\n",
    "# json.dumps() → Python object → JSON string\n",
    "# json.dump() → Python object → JSON file\n",
    "# json.load() → JSON file → Python object\n",
    "# json.loads() → JSON string → Python object"
   ]
  }
 ],
 "metadata": {
  "kernelspec": {
   "display_name": "Python 3",
   "language": "python",
   "name": "python3"
  },
  "language_info": {
   "codemirror_mode": {
    "name": "ipython",
    "version": 3
   },
   "file_extension": ".py",
   "mimetype": "text/x-python",
   "name": "python",
   "nbconvert_exporter": "python",
   "pygments_lexer": "ipython3",
   "version": "3.11.4"
  }
 },
 "nbformat": 4,
 "nbformat_minor": 5
}
